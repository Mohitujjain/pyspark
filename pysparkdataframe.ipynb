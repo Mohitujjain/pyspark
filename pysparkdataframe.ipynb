{
 "cells": [
  {
   "cell_type": "markdown",
   "id": "ffa6d2d4",
   "metadata": {},
   "source": [
    "#   Pyspark Dataframes\n",
    "\n",
    "   * Filter Operation\n",
    "   * &,|,==\n",
    "   * ~"
   ]
  },
  {
   "cell_type": "code",
   "execution_count": 1,
   "id": "fe4abdb0",
   "metadata": {},
   "outputs": [
    {
     "data": {
      "text/plain": [
       "'C:\\\\Program Files\\\\Spark\\\\spark-3.3.1-bin-hadoop2'"
      ]
     },
     "execution_count": 1,
     "metadata": {},
     "output_type": "execute_result"
    }
   ],
   "source": [
    "#Testing pyspark installation\n",
    "import findspark\n",
    "findspark.init()\n",
    "findspark.find()\n",
    "import pyspark\n",
    "findspark.find()"
   ]
  },
  {
   "cell_type": "code",
   "execution_count": 4,
   "id": "4d585228",
   "metadata": {},
   "outputs": [],
   "source": [
    "from pyspark.sql import SparkSession\n",
    "spark=SparkSession.builder.appName('dataframe').getOrCreate()"
   ]
  },
  {
   "cell_type": "code",
   "execution_count": 5,
   "id": "5da110ac",
   "metadata": {},
   "outputs": [],
   "source": [
    "df_pyspark=spark.read.csv('pyspkdataframe - Sheet1.csv',header=True,inferSchema=True)"
   ]
  },
  {
   "cell_type": "code",
   "execution_count": 6,
   "id": "190da12f",
   "metadata": {},
   "outputs": [
    {
     "name": "stdout",
     "output_type": "stream",
     "text": [
      "+-------+---+----------+------+\n",
      "|   Name|age|Experience|Salary|\n",
      "+-------+---+----------+------+\n",
      "|  Mohit| 31|        10| 30000|\n",
      "|  Krish| 30|         8| 25000|\n",
      "|  Raman| 29|         4| 20000|\n",
      "|Santosh| 24|         3| 15000|\n",
      "|  Bablu| 23|         1| 20000|\n",
      "|   Paul| 24|         2| 15000|\n",
      "+-------+---+----------+------+\n",
      "\n"
     ]
    }
   ],
   "source": [
    "df_pyspark.show()"
   ]
  },
  {
   "cell_type": "markdown",
   "id": "c4898822",
   "metadata": {},
   "source": [
    "## Filter Operation"
   ]
  },
  {
   "cell_type": "code",
   "execution_count": 7,
   "id": "3b549da6",
   "metadata": {},
   "outputs": [
    {
     "name": "stdout",
     "output_type": "stream",
     "text": [
      "+-------+---+----------+------+\n",
      "|   Name|age|Experience|Salary|\n",
      "+-------+---+----------+------+\n",
      "|  Raman| 29|         4| 20000|\n",
      "|Santosh| 24|         3| 15000|\n",
      "|  Bablu| 23|         1| 20000|\n",
      "|   Paul| 24|         2| 15000|\n",
      "+-------+---+----------+------+\n",
      "\n"
     ]
    }
   ],
   "source": [
    "### Salary of the people less than or equal to 20000\n",
    "df_pyspark.filter(\"Salary<=20000\").show()"
   ]
  },
  {
   "cell_type": "code",
   "execution_count": 8,
   "id": "7a8f66aa",
   "metadata": {},
   "outputs": [
    {
     "name": "stdout",
     "output_type": "stream",
     "text": [
      "+-------+---+\n",
      "|   Name|age|\n",
      "+-------+---+\n",
      "|  Raman| 29|\n",
      "|Santosh| 24|\n",
      "|  Bablu| 23|\n",
      "|   Paul| 24|\n",
      "+-------+---+\n",
      "\n"
     ]
    }
   ],
   "source": [
    "df_pyspark.filter(\"Salary<=20000\").select(['Name','age']).show()"
   ]
  },
  {
   "cell_type": "code",
   "execution_count": 11,
   "id": "23002ac5",
   "metadata": {},
   "outputs": [
    {
     "name": "stdout",
     "output_type": "stream",
     "text": [
      "+-------+---+----------+------+\n",
      "|   Name|age|Experience|Salary|\n",
      "+-------+---+----------+------+\n",
      "|  Raman| 29|         4| 20000|\n",
      "|Santosh| 24|         3| 15000|\n",
      "|  Bablu| 23|         1| 20000|\n",
      "|   Paul| 24|         2| 15000|\n",
      "+-------+---+----------+------+\n",
      "\n"
     ]
    }
   ],
   "source": [
    "df_pyspark.filter((df_pyspark['Salary']<=20000) & (df_pyspark['Salary']>=15000)).show()"
   ]
  },
  {
   "cell_type": "code",
   "execution_count": 12,
   "id": "9c548a4a",
   "metadata": {},
   "outputs": [
    {
     "name": "stdout",
     "output_type": "stream",
     "text": [
      "+-----+---+----------+------+\n",
      "| Name|age|Experience|Salary|\n",
      "+-----+---+----------+------+\n",
      "|Mohit| 31|        10| 30000|\n",
      "|Krish| 30|         8| 25000|\n",
      "+-----+---+----------+------+\n",
      "\n"
     ]
    }
   ],
   "source": [
    "df_pyspark.filter(~(df_pyspark['Salary']<=20000)).show()  #inverse filter operation or not "
   ]
  },
  {
   "cell_type": "markdown",
   "id": "ca39d785",
   "metadata": {},
   "source": [
    "# END"
   ]
  }
 ],
 "metadata": {
  "kernelspec": {
   "display_name": "Python 3",
   "language": "python",
   "name": "python3"
  },
  "language_info": {
   "codemirror_mode": {
    "name": "ipython",
    "version": 3
   },
   "file_extension": ".py",
   "mimetype": "text/x-python",
   "name": "python",
   "nbconvert_exporter": "python",
   "pygments_lexer": "ipython3",
   "version": "3.8.8"
  }
 },
 "nbformat": 4,
 "nbformat_minor": 5
}
