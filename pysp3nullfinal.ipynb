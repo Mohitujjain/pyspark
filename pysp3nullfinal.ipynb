{
 "cells": [
  {
   "cell_type": "markdown",
   "id": "ba934ea2",
   "metadata": {},
   "source": [
    "# Pyspark Handling Missing Values\n",
    "\n",
    "   * Dropping Columns\n",
    "   * Dropping Rows\n",
    "   * Various Parameter In Dropping functionalities\n",
    "   * Handling Missing values by Mean,Median And Mode"
   ]
  },
  {
   "cell_type": "code",
   "execution_count": 1,
   "id": "5d233a68",
   "metadata": {},
   "outputs": [
    {
     "data": {
      "text/html": [
       "<div>\n",
       "<style scoped>\n",
       "    .dataframe tbody tr th:only-of-type {\n",
       "        vertical-align: middle;\n",
       "    }\n",
       "\n",
       "    .dataframe tbody tr th {\n",
       "        vertical-align: top;\n",
       "    }\n",
       "\n",
       "    .dataframe thead th {\n",
       "        text-align: right;\n",
       "    }\n",
       "</style>\n",
       "<table border=\"1\" class=\"dataframe\">\n",
       "  <thead>\n",
       "    <tr style=\"text-align: right;\">\n",
       "      <th></th>\n",
       "      <th>Name</th>\n",
       "      <th>age</th>\n",
       "      <th>Experience</th>\n",
       "      <th>Salary</th>\n",
       "    </tr>\n",
       "  </thead>\n",
       "  <tbody>\n",
       "    <tr>\n",
       "      <th>0</th>\n",
       "      <td>Mohit</td>\n",
       "      <td>31.0</td>\n",
       "      <td>10.0</td>\n",
       "      <td>30000</td>\n",
       "    </tr>\n",
       "    <tr>\n",
       "      <th>1</th>\n",
       "      <td>Krish</td>\n",
       "      <td>30.0</td>\n",
       "      <td>8.0</td>\n",
       "      <td>25000</td>\n",
       "    </tr>\n",
       "    <tr>\n",
       "      <th>2</th>\n",
       "      <td>Raman</td>\n",
       "      <td>29.0</td>\n",
       "      <td>4.0</td>\n",
       "      <td>20000</td>\n",
       "    </tr>\n",
       "    <tr>\n",
       "      <th>3</th>\n",
       "      <td>Santosh</td>\n",
       "      <td>24.0</td>\n",
       "      <td>3.0</td>\n",
       "      <td>15000</td>\n",
       "    </tr>\n",
       "    <tr>\n",
       "      <th>4</th>\n",
       "      <td>Bablu</td>\n",
       "      <td>23.0</td>\n",
       "      <td>1.0</td>\n",
       "      <td>20000</td>\n",
       "    </tr>\n",
       "    <tr>\n",
       "      <th>5</th>\n",
       "      <td>Paul</td>\n",
       "      <td>24.0</td>\n",
       "      <td>2.0</td>\n",
       "      <td>15000</td>\n",
       "    </tr>\n",
       "    <tr>\n",
       "      <th>6</th>\n",
       "      <td>Mahesh</td>\n",
       "      <td>NaN</td>\n",
       "      <td>NaN</td>\n",
       "      <td>18000</td>\n",
       "    </tr>\n",
       "    <tr>\n",
       "      <th>7</th>\n",
       "      <td>NaN</td>\n",
       "      <td>56.0</td>\n",
       "      <td>10.0</td>\n",
       "      <td>40000</td>\n",
       "    </tr>\n",
       "    <tr>\n",
       "      <th>8</th>\n",
       "      <td>NaN</td>\n",
       "      <td>43.0</td>\n",
       "      <td>NaN</td>\n",
       "      <td>38000</td>\n",
       "    </tr>\n",
       "  </tbody>\n",
       "</table>\n",
       "</div>"
      ],
      "text/plain": [
       "      Name   age  Experience  Salary\n",
       "0    Mohit  31.0        10.0   30000\n",
       "1    Krish  30.0         8.0   25000\n",
       "2    Raman  29.0         4.0   20000\n",
       "3  Santosh  24.0         3.0   15000\n",
       "4    Bablu  23.0         1.0   20000\n",
       "5     Paul  24.0         2.0   15000\n",
       "6   Mahesh   NaN         NaN   18000\n",
       "7      NaN  56.0        10.0   40000\n",
       "8      NaN  43.0         NaN   38000"
      ]
     },
     "execution_count": 1,
     "metadata": {},
     "output_type": "execute_result"
    }
   ],
   "source": [
    "import pandas as pd\n",
    "pd.read_csv('pysp3null - Sheet1.csv')"
   ]
  },
  {
   "cell_type": "code",
   "execution_count": 2,
   "id": "d44095ad",
   "metadata": {},
   "outputs": [
    {
     "data": {
      "text/plain": [
       "'C:\\\\Program Files\\\\Spark\\\\spark-3.3.1-bin-hadoop2'"
      ]
     },
     "execution_count": 2,
     "metadata": {},
     "output_type": "execute_result"
    }
   ],
   "source": [
    "#Testing pyspark installation\n",
    "import findspark\n",
    "findspark.init()\n",
    "findspark.find()\n",
    "import pyspark\n",
    "findspark.find()"
   ]
  },
  {
   "cell_type": "code",
   "execution_count": 3,
   "id": "fff59bbc",
   "metadata": {},
   "outputs": [],
   "source": [
    "from pyspark.sql import SparkSession\n",
    "spark=SparkSession.builder.appName('Practise').getOrCreate()"
   ]
  },
  {
   "cell_type": "code",
   "execution_count": 47,
   "id": "2010d10b",
   "metadata": {},
   "outputs": [
    {
     "name": "stdout",
     "output_type": "stream",
     "text": [
      "+-------+----+----------+------+\n",
      "|    _c0| _c1|       _c2|   _c3|\n",
      "+-------+----+----------+------+\n",
      "|   Name| age|Experience|Salary|\n",
      "|  Mohit|  31|        10| 30000|\n",
      "|  Krish|  30|         8| 25000|\n",
      "|  Raman|  29|         4| 20000|\n",
      "|Santosh|  24|         3| 15000|\n",
      "|  Bablu|  23|         1| 20000|\n",
      "|   Paul|  24|         2| 15000|\n",
      "| Mahesh|null|      null| 18000|\n",
      "|   null|  56|        10| 40000|\n",
      "|   null|  43|      null| 38000|\n",
      "+-------+----+----------+------+\n",
      "\n"
     ]
    }
   ],
   "source": [
    "df_pyspark=spark.read.csv('pysp3null - Sheet1.csv').show()  # .show()"
   ]
  },
  {
   "cell_type": "code",
   "execution_count": 48,
   "id": "d0f4edc4",
   "metadata": {},
   "outputs": [],
   "source": [
    "df_pyspark=spark.read.csv('pysp3null - Sheet1.csv',header=True,inferSchema=True)"
   ]
  },
  {
   "cell_type": "code",
   "execution_count": 49,
   "id": "7e14195a",
   "metadata": {},
   "outputs": [
    {
     "name": "stdout",
     "output_type": "stream",
     "text": [
      "+-------+----+----------+------+\n",
      "|   Name| age|Experience|Salary|\n",
      "+-------+----+----------+------+\n",
      "|  Mohit|  31|        10| 30000|\n",
      "|  Krish|  30|         8| 25000|\n",
      "|  Raman|  29|         4| 20000|\n",
      "|Santosh|  24|         3| 15000|\n",
      "|  Bablu|  23|         1| 20000|\n",
      "|   Paul|  24|         2| 15000|\n",
      "| Mahesh|null|      null| 18000|\n",
      "|   null|  56|        10| 40000|\n",
      "|   null|  43|      null| 38000|\n",
      "+-------+----+----------+------+\n",
      "\n"
     ]
    }
   ],
   "source": [
    "df_pyspark.show()"
   ]
  },
  {
   "cell_type": "code",
   "execution_count": 50,
   "id": "6834187e",
   "metadata": {},
   "outputs": [
    {
     "name": "stdout",
     "output_type": "stream",
     "text": [
      "+----+----------+------+\n",
      "| age|Experience|Salary|\n",
      "+----+----------+------+\n",
      "|  31|        10| 30000|\n",
      "|  30|         8| 25000|\n",
      "|  29|         4| 20000|\n",
      "|  24|         3| 15000|\n",
      "|  23|         1| 20000|\n",
      "|  24|         2| 15000|\n",
      "|null|      null| 18000|\n",
      "|  56|        10| 40000|\n",
      "|  43|      null| 38000|\n",
      "+----+----------+------+\n",
      "\n"
     ]
    }
   ],
   "source": [
    "## drop the columns\n",
    "df_pyspark.drop('Name').show()"
   ]
  },
  {
   "cell_type": "code",
   "execution_count": 51,
   "id": "b140208f",
   "metadata": {},
   "outputs": [
    {
     "name": "stdout",
     "output_type": "stream",
     "text": [
      "+-------+---+----------+------+\n",
      "|   Name|age|Experience|Salary|\n",
      "+-------+---+----------+------+\n",
      "|  Mohit| 31|        10| 30000|\n",
      "|  Krish| 30|         8| 25000|\n",
      "|  Raman| 29|         4| 20000|\n",
      "|Santosh| 24|         3| 15000|\n",
      "|  Bablu| 23|         1| 20000|\n",
      "|   Paul| 24|         2| 15000|\n",
      "+-------+---+----------+------+\n",
      "\n"
     ]
    }
   ],
   "source": [
    "df_pyspark.na.drop().show()"
   ]
  },
  {
   "cell_type": "code",
   "execution_count": 52,
   "id": "54735e0e",
   "metadata": {},
   "outputs": [
    {
     "name": "stdout",
     "output_type": "stream",
     "text": [
      "+-------+----+----------+------+\n",
      "|   Name| age|Experience|Salary|\n",
      "+-------+----+----------+------+\n",
      "|  Mohit|  31|        10| 30000|\n",
      "|  Krish|  30|         8| 25000|\n",
      "|  Raman|  29|         4| 20000|\n",
      "|Santosh|  24|         3| 15000|\n",
      "|  Bablu|  23|         1| 20000|\n",
      "|   Paul|  24|         2| 15000|\n",
      "| Mahesh|null|      null| 18000|\n",
      "|   null|  56|        10| 40000|\n",
      "|   null|  43|      null| 38000|\n",
      "+-------+----+----------+------+\n",
      "\n"
     ]
    }
   ],
   "source": [
    "#### any==how\n",
    "df_pyspark.na.drop(how=\"all\").show()"
   ]
  },
  {
   "cell_type": "code",
   "execution_count": 53,
   "id": "f2e0aa20",
   "metadata": {},
   "outputs": [
    {
     "name": "stdout",
     "output_type": "stream",
     "text": [
      "+-------+---+----------+------+\n",
      "|   Name|age|Experience|Salary|\n",
      "+-------+---+----------+------+\n",
      "|  Mohit| 31|        10| 30000|\n",
      "|  Krish| 30|         8| 25000|\n",
      "|  Raman| 29|         4| 20000|\n",
      "|Santosh| 24|         3| 15000|\n",
      "|  Bablu| 23|         1| 20000|\n",
      "|   Paul| 24|         2| 15000|\n",
      "+-------+---+----------+------+\n",
      "\n"
     ]
    }
   ],
   "source": [
    "df_pyspark.na.drop(how=\"any\").show()"
   ]
  },
  {
   "cell_type": "code",
   "execution_count": 54,
   "id": "c344e842",
   "metadata": {},
   "outputs": [
    {
     "name": "stdout",
     "output_type": "stream",
     "text": [
      "+-------+---+----------+------+\n",
      "|   Name|age|Experience|Salary|\n",
      "+-------+---+----------+------+\n",
      "|  Mohit| 31|        10| 30000|\n",
      "|  Krish| 30|         8| 25000|\n",
      "|  Raman| 29|         4| 20000|\n",
      "|Santosh| 24|         3| 15000|\n",
      "|  Bablu| 23|         1| 20000|\n",
      "|   Paul| 24|         2| 15000|\n",
      "|   null| 56|        10| 40000|\n",
      "+-------+---+----------+------+\n",
      "\n"
     ]
    }
   ],
   "source": [
    "###thresold\n",
    "df_pyspark.na.drop(how=\"any\",thresh=3).show()  ##thresh=1,2,3..."
   ]
  },
  {
   "cell_type": "code",
   "execution_count": 55,
   "id": "e4164de0",
   "metadata": {},
   "outputs": [
    {
     "name": "stdout",
     "output_type": "stream",
     "text": [
      "+-------+---+----------+------+\n",
      "|   Name|age|Experience|Salary|\n",
      "+-------+---+----------+------+\n",
      "|  Mohit| 31|        10| 30000|\n",
      "|  Krish| 30|         8| 25000|\n",
      "|  Raman| 29|         4| 20000|\n",
      "|Santosh| 24|         3| 15000|\n",
      "|  Bablu| 23|         1| 20000|\n",
      "|   Paul| 24|         2| 15000|\n",
      "|   null| 56|        10| 40000|\n",
      "|   null| 43|      null| 38000|\n",
      "+-------+---+----------+------+\n",
      "\n"
     ]
    }
   ],
   "source": [
    "##subset\n",
    "df_pyspark.na.drop(how=\"any\",subset=['age']).show()"
   ]
  },
  {
   "cell_type": "code",
   "execution_count": 56,
   "id": "cf3b66f0",
   "metadata": {},
   "outputs": [
    {
     "name": "stdout",
     "output_type": "stream",
     "text": [
      "+--------------+----+----------+------+\n",
      "|          Name| age|Experience|Salary|\n",
      "+--------------+----+----------+------+\n",
      "|         Mohit|  31|        10| 30000|\n",
      "|         Krish|  30|         8| 25000|\n",
      "|         Raman|  29|         4| 20000|\n",
      "|       Santosh|  24|         3| 15000|\n",
      "|         Bablu|  23|         1| 20000|\n",
      "|          Paul|  24|         2| 15000|\n",
      "|        Mahesh|null|      null| 18000|\n",
      "|Missing Values|  56|        10| 40000|\n",
      "|Missing Values|  43|      null| 38000|\n",
      "+--------------+----+----------+------+\n",
      "\n"
     ]
    }
   ],
   "source": [
    "### Filling the Missing value\n",
    "df_pyspark.na.fill('Missing Values').show()"
   ]
  },
  {
   "cell_type": "code",
   "execution_count": 57,
   "id": "1ebbba24",
   "metadata": {},
   "outputs": [
    {
     "name": "stdout",
     "output_type": "stream",
     "text": [
      "+-------------+----+----------+------+\n",
      "|         Name| age|Experience|Salary|\n",
      "+-------------+----+----------+------+\n",
      "|        Mohit|  31|        10| 30000|\n",
      "|        Krish|  30|         8| 25000|\n",
      "|        Raman|  29|         4| 20000|\n",
      "|      Santosh|  24|         3| 15000|\n",
      "|        Bablu|  23|         1| 20000|\n",
      "|         Paul|  24|         2| 15000|\n",
      "|       Mahesh|null|      null| 18000|\n",
      "|Missing Value|  56|        10| 40000|\n",
      "|Missing Value|  43|      null| 38000|\n",
      "+-------------+----+----------+------+\n",
      "\n"
     ]
    }
   ],
   "source": [
    "df_pyspark.na.fill('Missing Value',['age','Experience','Name']).show()  #features or col wise"
   ]
  },
  {
   "cell_type": "code",
   "execution_count": 58,
   "id": "ed5daf90",
   "metadata": {},
   "outputs": [
    {
     "name": "stdout",
     "output_type": "stream",
     "text": [
      "+-------+----+----------+------+\n",
      "|   Name| age|Experience|Salary|\n",
      "+-------+----+----------+------+\n",
      "|  Mohit|  31|        10| 30000|\n",
      "|  Krish|  30|         8| 25000|\n",
      "|  Raman|  29|         4| 20000|\n",
      "|Santosh|  24|         3| 15000|\n",
      "|  Bablu|  23|         1| 20000|\n",
      "|   Paul|  24|         2| 15000|\n",
      "| Mahesh|null|      null| 18000|\n",
      "|   null|  56|        10| 40000|\n",
      "|   null|  43|      null| 38000|\n",
      "+-------+----+----------+------+\n",
      "\n"
     ]
    }
   ],
   "source": [
    "df_pyspark.show()"
   ]
  },
  {
   "cell_type": "code",
   "execution_count": 59,
   "id": "3a51e923",
   "metadata": {},
   "outputs": [],
   "source": [
    "from pyspark.ml.feature import Imputer"
   ]
  },
  {
   "cell_type": "code",
   "execution_count": 60,
   "id": "bd34900d",
   "metadata": {},
   "outputs": [],
   "source": [
    "imputer = Imputer(\n",
    "\tinputCols=['age', 'Experience', 'Salary'],\n",
    "\toutputCols=[\"{}_imputed\".format(c) for c in ['age', 'Experience', 'Salary']]\n",
    "\t).setStrategy(\"mean\")   #median,mode u also use "
   ]
  },
  {
   "cell_type": "code",
   "execution_count": 61,
   "id": "3f7521d9",
   "metadata": {},
   "outputs": [
    {
     "name": "stdout",
     "output_type": "stream",
     "text": [
      "+-------+----+----------+------+-----------+------------------+--------------+\n",
      "|   Name| age|Experience|Salary|age_imputed|Experience_imputed|Salary_imputed|\n",
      "+-------+----+----------+------+-----------+------------------+--------------+\n",
      "|  Mohit|  31|        10| 30000|         31|                10|         30000|\n",
      "|  Krish|  30|         8| 25000|         30|                 8|         25000|\n",
      "|  Raman|  29|         4| 20000|         29|                 4|         20000|\n",
      "|Santosh|  24|         3| 15000|         24|                 3|         15000|\n",
      "|  Bablu|  23|         1| 20000|         23|                 1|         20000|\n",
      "|   Paul|  24|         2| 15000|         24|                 2|         15000|\n",
      "| Mahesh|null|      null| 18000|         32|                 5|         18000|\n",
      "|   null|  56|        10| 40000|         56|                10|         40000|\n",
      "|   null|  43|      null| 38000|         43|                 5|         38000|\n",
      "+-------+----+----------+------+-----------+------------------+--------------+\n",
      "\n"
     ]
    }
   ],
   "source": [
    "# Add imputation cols to df\n",
    "imputer.fit(df_pyspark).transform(df_pyspark).show()"
   ]
  },
  {
   "cell_type": "code",
   "execution_count": null,
   "id": "cb9b9467",
   "metadata": {},
   "outputs": [],
   "source": []
  }
 ],
 "metadata": {
  "kernelspec": {
   "display_name": "Python 3",
   "language": "python",
   "name": "python3"
  },
  "language_info": {
   "codemirror_mode": {
    "name": "ipython",
    "version": 3
   },
   "file_extension": ".py",
   "mimetype": "text/x-python",
   "name": "python",
   "nbconvert_exporter": "python",
   "pygments_lexer": "ipython3",
   "version": "3.8.8"
  }
 },
 "nbformat": 4,
 "nbformat_minor": 5
}
